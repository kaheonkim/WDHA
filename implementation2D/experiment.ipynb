{
 "cells": [
  {
   "cell_type": "markdown",
   "metadata": {
    "id": "7HuXtN4Ol9Oj"
   },
   "source": [
    "**Introduction**\n",
    "\n",
    "This code reproduces the results presented in Section 4, \"Numerical Studies,\" of the paper. You can run the codes using Google Colab."
   ]
  },
  {
   "cell_type": "markdown",
   "metadata": {
    "id": "KeyG3z0UIccS"
   },
   "source": [
    "# Basic Setting"
   ]
  },
  {
   "cell_type": "code",
   "execution_count": null,
   "metadata": {
    "id": "2khWiVyyhJPv"
   },
   "outputs": [],
   "source": [
    "!git clone https://github.com/Math-Jacobs/bfm\n",
    "!pip install bfm/python\n",
    "!pip install pot"
   ]
  },
  {
   "cell_type": "code",
   "execution_count": null,
   "metadata": {
    "id": "udUUh02Phe6o"
   },
   "outputs": [],
   "source": [
    "from google.colab import drive\n",
    "drive.mount('/content/drive', force_remount = True)"
   ]
  },
  {
   "cell_type": "code",
   "execution_count": null,
   "metadata": {
    "id": "2VKyTzbvhdQ4"
   },
   "outputs": [],
   "source": [
    "# Change the address of the directory before running this cell.\n",
    "import sys\n",
    "sys.path.append('drive/MyDrive/WDHA')"
   ]
  },
  {
   "cell_type": "code",
   "execution_count": null,
   "metadata": {
    "id": "UweIx0jKchjt"
   },
   "outputs": [],
   "source": [
    "from time import time\n",
    "import numpy as np\n",
    "from metric import *\n",
    "from functions import *\n",
    "\n",
    "import ot\n",
    "import matplotlib.pyplot as plt\n",
    "from w2 import BFM\n",
    "%config InlineBackend.figure_format = 'retina'\n",
    "plt.rcParams['figure.figsize'] = (13, 8)\n",
    "plt.rcParams['image.cmap'] = 'viridis'"
   ]
  },
  {
   "cell_type": "markdown",
   "metadata": {
    "id": "cGwQ20kbcws5"
   },
   "source": [
    "## Dataset and settings"
   ]
  },
  {
   "cell_type": "code",
   "execution_count": null,
   "metadata": {
    "id": "ixiLFyA1coaK"
   },
   "outputs": [],
   "source": [
    "n1, n2 = 1024, 1024\n",
    "x, y = np.meshgrid(np.linspace(0.5/n1,1-0.5/n1,n1),\n",
    "                    np.linspace(0.5/n2,1-0.5/n2,n2))\n",
    "func1 = 1/2 * (x**2 + y**2)\n",
    "\n",
    "r = 0.1\n",
    "# Initialize densities\n",
    "mu1 = np.zeros((n2, n1))\n",
    "mu1[(x-0.8)**2 + (y-0.8)**2 < r**2] = 1\n",
    "mu2 = np.zeros((n2, n1))\n",
    "mu2[(0.8-r/2.5<x) & (x<0.8+r/2.5) & (0.3-r < y) & (y < 0.3+r)] = 1\n",
    "mu2[(0.3-r/2.5<y) & (y<0.3+r/2.5) & (0.8-r < x) & (x < 0.8+r)] = 1\n",
    "\n",
    "\n",
    "# Normalize\n",
    "mu1 *= n1*n2 / np.sum(mu1)\n",
    "mu2 *= n1*n2 / np.sum(mu2)\n",
    "\n",
    "heart = np.zeros((n2, n1))\n",
    "heart[((10*x-2)**2+(10*(y-0.3))**2-1)**3-(10*x-2)**2*(10*(y-0.3))**3<0] = 1\n",
    "heart *= n1 * n2 / np.sum(heart)\n",
    "\n",
    "rectangle = np.zeros((n2, n1))\n",
    "rectangle[(x<0.3) & (x > 0.1) & (y>0.7) & (y<0.9)] = 1\n",
    "rectangle *= n1*n2 / np.sum(rectangle)\n",
    "\n",
    "mu = [mu1,mu2, heart, rectangle]"
   ]
  },
  {
   "cell_type": "markdown",
   "metadata": {
    "id": "ijc0IbN5hJP0",
    "jp-MarkdownHeadingCollapsed": true
   },
   "source": [
    "# Shape Example"
   ]
  },
  {
   "cell_type": "code",
   "execution_count": null,
   "metadata": {
    "id": "M3rzajjFhJP0"
   },
   "outputs": [],
   "source": [
    "plotting(mu, np.zeros((n2,n1)),'_',save_option = False)"
   ]
  },
  {
   "cell_type": "markdown",
   "metadata": {
    "id": "8mCdEwAQhJP1"
   },
   "source": [
    "## WDHA"
   ]
  },
  {
   "cell_type": "code",
   "execution_count": null,
   "metadata": {
    "id": "BLtIDJDGhJP1"
   },
   "outputs": [],
   "source": [
    "mu_WGHA = frechet_mean(mu, 300, 'MU', save_option = False, return_option = True)"
   ]
  },
  {
   "cell_type": "markdown",
   "metadata": {
    "id": "FQZmpOHXhJP1"
   },
   "source": [
    "## CWB"
   ]
  },
  {
   "cell_type": "code",
   "execution_count": null,
   "metadata": {
    "id": "uUldpwcnhJP2"
   },
   "outputs": [],
   "source": [
    "mu_CWB = frechet_mean_pot(mu, 5e-3,'MU',print_option=True, plot_option=True, save_option=False, return_option = True)"
   ]
  },
  {
   "cell_type": "markdown",
   "metadata": {
    "id": "TNcm_lGHhJP2"
   },
   "source": [
    "## DSB"
   ]
  },
  {
   "cell_type": "code",
   "execution_count": null,
   "metadata": {
    "id": "G3wrWi3_Uhmp"
   },
   "outputs": [],
   "source": [
    "mu_DSB = frechet_mean_pot_debiased(mu, 5e-3,'MU',print_option=True, plot_option=True, save_option=False, return_option = True)"
   ]
  },
  {
   "cell_type": "markdown",
   "metadata": {
    "id": "LVrMsiY4hJP2"
   },
   "source": [
    "## Analysis"
   ]
  },
  {
   "cell_type": "markdown",
   "metadata": {
    "id": "9Np2RSqUhJP3"
   },
   "source": [
    "Average $W_2$ distance between given distributions and barycenter"
   ]
  },
  {
   "cell_type": "code",
   "execution_count": null,
   "metadata": {
    "id": "yNg0YVwDhJP3"
   },
   "outputs": [],
   "source": [
    "print(avgw2(mu,mu_WGHA),avgw2(mu,mu_CWB),avgw2(mu,mu_DSB))"
   ]
  },
  {
   "cell_type": "markdown",
   "metadata": {
    "id": "eXz5IkwIoo_g"
   },
   "source": [
    "# MNIST Examples"
   ]
  },
  {
   "cell_type": "markdown",
   "metadata": {
    "id": "JI3rpAPuYyD3"
   },
   "source": [
    "Before you start, download **Images(500x500).npy** and **WriterInfo.npy** through the link : https://drive.google.com/drive/folders/1f2o1kjXLvcxRgtmMMuDkA2PQ5Zato4Or"
   ]
  },
  {
   "cell_type": "code",
   "execution_count": null,
   "metadata": {
    "id": "LtU8kVELMEd_"
   },
   "outputs": [],
   "source": [
    "Images = np.load('/content/drive/My Drive/WDHA/Images(500x500).npy')\n",
    "WriterInfo = np.load('/content/drive/My Drive/WDHA/WriterInfo.npy')\n",
    "digit = WriterInfo[:,0]\n",
    "user = WriterInfo[:,-1]\n",
    "num_image = 100\n",
    "num_iter = 300\n",
    "numbers8 = 255 - Images[(digit == 8)][:num_image].astype('float64')\n",
    "\n",
    "for j in range(num_image):\n",
    "    numbers8[j] /= np.sum(numbers8[j])\n",
    "    numbers8[j] *= 500 * 500\n",
    "del Images, WriterInfo, user, digit"
   ]
  },
  {
   "cell_type": "code",
   "execution_count": null,
   "metadata": {
    "colab": {
     "base_uri": "https://localhost:8080/"
    },
    "id": "tVZOELBOpHzz",
    "outputId": "7df429ee-93a5-4dbf-f997-5e32de42bbd1"
   },
   "outputs": [
    {
     "data": {
      "text/plain": [
       "<matplotlib.image.AxesImage at 0x7a5817d780d0>"
      ]
     },
     "execution_count": 12,
     "metadata": {},
     "output_type": "execute_result"
    }
   ],
   "source": [
    "\n",
    "fig, axes = plt.subplots(1, 3, figsize=(10, 4))  # 3 rows, 1 column\n",
    "\n",
    "plotting_mnist(numbers8[0], '', ax=axes[0])\n",
    "plotting_mnist(numbers8[1], '', ax=axes[1])\n",
    "plotting_mnist(numbers8[2], '', ax=axes[2])\n",
    "\n",
    "fig.suptitle(\"3 Exemplary Digits 8\", fontsize=16)\n",
    "plt.tight_layout()\n",
    "plt.show()"
   ]
  },
  {
   "cell_type": "code",
   "execution_count": null,
   "metadata": {
    "id": "NRylHpJoeRO-"
   },
   "outputs": [],
   "source": [
    "bary8 = frechet_mean(numbers8, num_iter, 'mnist',plot_option = False, save_option = False, return_option = True)\n",
    "plotting_mnist(bary8, '-')"
   ]
  },
  {
   "cell_type": "code",
   "execution_count": null,
   "metadata": {
    "id": "Xc2pW7rIpMQ3"
   },
   "outputs": [],
   "source": [
    "tic = time()\n",
    "weights = np.array([1/num_image] * num_image)\n",
    "mean_CWB = ot.bregman.convolutional_barycenter2d(numbers8, 5*10**(-3), weights, numItermax = num_iter,stopThr=0.0)\n",
    "\n",
    "toc = time()\n",
    "plotting_mnist(mean_CWB, '8CWB', save_option = False)\n",
    "print(toc-tic)"
   ]
  },
  {
   "cell_type": "code",
   "execution_count": null,
   "metadata": {
    "id": "qyMfJMs2ITCT"
   },
   "outputs": [],
   "source": [
    "tic = time()\n",
    "weights = np.array([1/num_image] * num_image)\n",
    "mean_DSB = ot.bregman.convolutional_barycenter2d_debiased(numbers8, 5*10**(-3), weights, numItermax = num_iter,stopThr=0.0)\n",
    "\n",
    "toc = time()\n",
    "plotting_mnist(mean_DSB, '8DSB', save_option = False)\n",
    "print(toc-tic)"
   ]
  }
 ],
 "metadata": {
  "accelerator": "GPU",
  "colab": {
   "gpuType": "T4",
   "machine_shape": "hm",
   "provenance": []
  },
  "kernelspec": {
   "display_name": "Python 3 (ipykernel)",
   "language": "python",
   "name": "python3"
  },
  "language_info": {
   "codemirror_mode": {
    "name": "ipython",
    "version": 3
   },
   "file_extension": ".py",
   "mimetype": "text/x-python",
   "name": "python",
   "nbconvert_exporter": "python",
   "pygments_lexer": "ipython3",
   "version": "3.11.2"
  }
 },
 "nbformat": 4,
 "nbformat_minor": 0
}
